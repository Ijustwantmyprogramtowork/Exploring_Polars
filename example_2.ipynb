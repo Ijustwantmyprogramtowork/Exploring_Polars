{
 "cells": [
  {
   "cell_type": "code",
   "execution_count": 1,
   "metadata": {},
   "outputs": [],
   "source": [
    "import polars as pl\n",
    "from pprint import pprint\n",
    "import pandas as pd"
   ]
  },
  {
   "cell_type": "code",
   "execution_count": 53,
   "metadata": {},
   "outputs": [],
   "source": [
    "df_pd=pd.read_json('ShareGPT_V3_unfiltered_cleaned_split_no_imsorry.json')"
   ]
  },
  {
   "cell_type": "code",
   "execution_count": 59,
   "metadata": {},
   "outputs": [],
   "source": [
    "df=pl.read_json('ShareGPT_V3_unfiltered_cleaned_split_no_imsorry.json')"
   ]
  },
  {
   "cell_type": "code",
   "execution_count": 50,
   "metadata": {},
   "outputs": [
    {
     "data": {
      "text/plain": [
       "522.9341344833374"
      ]
     },
     "execution_count": 50,
     "metadata": {},
     "output_type": "execute_result"
    }
   ],
   "source": [
    "df.estimated_size(\"mb\")"
   ]
  },
  {
   "cell_type": "code",
   "execution_count": 25,
   "metadata": {},
   "outputs": [
    {
     "data": {
      "text/plain": [
       "(94145, 5)"
      ]
     },
     "execution_count": 25,
     "metadata": {},
     "output_type": "execute_result"
    }
   ],
   "source": [
    "df.shape"
   ]
  },
  {
   "cell_type": "code",
   "execution_count": 54,
   "metadata": {},
   "outputs": [
    {
     "data": {
      "text/html": [
       "<div><style>\n",
       ".dataframe > thead > tr,\n",
       ".dataframe > tbody > tr {\n",
       "  text-align: right;\n",
       "  white-space: pre-wrap;\n",
       "}\n",
       "</style>\n",
       "<small>shape: (5, 5)</small><table border=\"1\" class=\"dataframe\"><thead><tr><th>id</th><th>questionner</th><th>question</th><th>answerer</th><th>answer</th></tr><tr><td>str</td><td>str</td><td>str</td><td>str</td><td>str</td></tr></thead><tbody><tr><td>&quot;QWJhYvA_0&quot;</td><td>&quot;human&quot;</td><td>&quot;Summarize the …</td><td>&quot;gpt&quot;</td><td>&quot;Tony Robbins d…</td></tr><tr><td>&quot;i6IyJda_0&quot;</td><td>&quot;human&quot;</td><td>&quot;How to tell if…</td><td>&quot;gpt&quot;</td><td>&quot;1. Homogeneity…</td></tr><tr><td>&quot;A5AbcES_0&quot;</td><td>&quot;human&quot;</td><td>&quot;In Java, I wan…</td><td>&quot;gpt&quot;</td><td>&quot;You can use th…</td></tr><tr><td>&quot;hRPPgZT_0&quot;</td><td>&quot;human&quot;</td><td>&quot;Metaphorical l…</td><td>&quot;gpt&quot;</td><td>&quot;Lo and behold!…</td></tr><tr><td>&quot;hRPPgZT_11&quot;</td><td>&quot;gpt&quot;</td><td>&quot;Lo and behold!…</td><td>&quot;gpt&quot;</td><td>&quot;Behold, fellow…</td></tr></tbody></table></div>"
      ],
      "text/plain": [
       "shape: (5, 5)\n",
       "┌────────────┬─────────────┬──────────────────────────────┬──────────┬─────────────────────────────┐\n",
       "│ id         ┆ questionner ┆ question                     ┆ answerer ┆ answer                      │\n",
       "│ ---        ┆ ---         ┆ ---                          ┆ ---      ┆ ---                         │\n",
       "│ str        ┆ str         ┆ str                          ┆ str      ┆ str                         │\n",
       "╞════════════╪═════════════╪══════════════════════════════╪══════════╪═════════════════════════════╡\n",
       "│ QWJhYvA_0  ┆ human       ┆ Summarize the main ideas of  ┆ gpt      ┆ Tony Robbins describes six  │\n",
       "│            ┆             ┆ Jeff…                        ┆          ┆ core …                      │\n",
       "│ i6IyJda_0  ┆ human       ┆ How to tell if a customer    ┆ gpt      ┆ 1. Homogeneity: The segment │\n",
       "│            ┆             ┆ segmen…                      ┆          ┆ shou…                       │\n",
       "│ A5AbcES_0  ┆ human       ┆ In Java, I want to replace   ┆ gpt      ┆ You can use the             │\n",
       "│            ┆             ┆ strin…                       ┆          ┆ `String.format()…           │\n",
       "│ hRPPgZT_0  ┆ human       ┆ Metaphorical language is     ┆ gpt      ┆ Lo and behold! By the grace │\n",
       "│            ┆             ┆ also us…                     ┆          ┆ of d…                       │\n",
       "│ hRPPgZT_11 ┆ gpt         ┆ Lo and behold! By the grace  ┆ gpt      ┆ Behold, fellow seeker of    │\n",
       "│            ┆             ┆ of d…                        ┆          ┆ knowled…                    │\n",
       "└────────────┴─────────────┴──────────────────────────────┴──────────┴─────────────────────────────┘"
      ]
     },
     "execution_count": 54,
     "metadata": {},
     "output_type": "execute_result"
    }
   ],
   "source": [
    "# Take the first part of the struct as the questionner\n",
    "df=df.with_columns(pl.col('conversations').list.first().alias('human')\n",
    "                   # Unnest the struct and rename it\n",
    "                ).unnest('human').rename({'from':'questionner', 'value':'question'}\n",
    "                                         # Take the last part as the answerer\n",
    "                                         ).with_columns(pl.col('conversations').list.last().alias('gpt')\n",
    "                                                        # unnest and rename it\n",
    "                                                        ).unnest('gpt').drop('conversations').rename({'from':'answerer', 'value': 'answer'})\n",
    "df.head()"
   ]
  },
  {
   "cell_type": "code",
   "execution_count": 55,
   "metadata": {},
   "outputs": [
    {
     "data": {
      "text/html": [
       "<div>\n",
       "<style scoped>\n",
       "    .dataframe tbody tr th:only-of-type {\n",
       "        vertical-align: middle;\n",
       "    }\n",
       "\n",
       "    .dataframe tbody tr th {\n",
       "        vertical-align: top;\n",
       "    }\n",
       "\n",
       "    .dataframe thead th {\n",
       "        text-align: right;\n",
       "    }\n",
       "</style>\n",
       "<table border=\"1\" class=\"dataframe\">\n",
       "  <thead>\n",
       "    <tr style=\"text-align: right;\">\n",
       "      <th></th>\n",
       "      <th>id</th>\n",
       "      <th>questionner</th>\n",
       "      <th>question</th>\n",
       "      <th>answerer</th>\n",
       "      <th>answer</th>\n",
       "    </tr>\n",
       "  </thead>\n",
       "  <tbody>\n",
       "    <tr>\n",
       "      <th>0</th>\n",
       "      <td>QWJhYvA_0</td>\n",
       "      <td>human</td>\n",
       "      <td>Summarize the main ideas of Jeff Walker's Prod...</td>\n",
       "      <td>gpt</td>\n",
       "      <td>Here are the main ideas of Jeff Walker's Produ...</td>\n",
       "    </tr>\n",
       "    <tr>\n",
       "      <th>1</th>\n",
       "      <td>i6IyJda_0</td>\n",
       "      <td>human</td>\n",
       "      <td>Summarize the main ideas of Brendon Burchard's...</td>\n",
       "      <td>gpt</td>\n",
       "      <td>Here are the main ideas of Brendon Burchard's ...</td>\n",
       "    </tr>\n",
       "    <tr>\n",
       "      <th>2</th>\n",
       "      <td>A5AbcES_0</td>\n",
       "      <td>human</td>\n",
       "      <td>What are the mental triggers in Jeff Walker's ...</td>\n",
       "      <td>gpt</td>\n",
       "      <td>Here are the mental triggers described in Jeff...</td>\n",
       "    </tr>\n",
       "    <tr>\n",
       "      <th>3</th>\n",
       "      <td>hRPPgZT_0</td>\n",
       "      <td>human</td>\n",
       "      <td>Write a summary of why scarcity and urgency ar...</td>\n",
       "      <td>gpt</td>\n",
       "      <td>Scarcity and urgency are two of the strongest ...</td>\n",
       "    </tr>\n",
       "    <tr>\n",
       "      <th>4</th>\n",
       "      <td>hRPPgZT_11</td>\n",
       "      <td>human</td>\n",
       "      <td>Summarize Russell Brunson's Perfect Webinar Sc...</td>\n",
       "      <td>gpt</td>\n",
       "      <td>Russell Brunson's Perfect Webinar Script is a ...</td>\n",
       "    </tr>\n",
       "  </tbody>\n",
       "</table>\n",
       "</div>"
      ],
      "text/plain": [
       "           id questionner                                           question  \\\n",
       "0   QWJhYvA_0       human  Summarize the main ideas of Jeff Walker's Prod...   \n",
       "1   i6IyJda_0       human  Summarize the main ideas of Brendon Burchard's...   \n",
       "2   A5AbcES_0       human  What are the mental triggers in Jeff Walker's ...   \n",
       "3   hRPPgZT_0       human  Write a summary of why scarcity and urgency ar...   \n",
       "4  hRPPgZT_11       human  Summarize Russell Brunson's Perfect Webinar Sc...   \n",
       "\n",
       "  answerer                                             answer  \n",
       "0      gpt  Here are the main ideas of Jeff Walker's Produ...  \n",
       "1      gpt  Here are the main ideas of Brendon Burchard's ...  \n",
       "2      gpt  Here are the mental triggers described in Jeff...  \n",
       "3      gpt  Scarcity and urgency are two of the strongest ...  \n",
       "4      gpt  Russell Brunson's Perfect Webinar Script is a ...  "
      ]
     },
     "execution_count": 55,
     "metadata": {},
     "output_type": "execute_result"
    }
   ],
   "source": [
    "df_pd_sec=df_pd.explode('conversations')\n",
    "df_conversations = pd.json_normalize(df_pd_sec['conversations'])\n",
    "\n",
    "# separate the questions and answers\n",
    "df_questions = df_conversations[df_conversations['from'] == 'human'].rename(columns={'from': 'questionner', 'value': 'question'})\n",
    "df_answers = df_conversations[df_conversations['from'] == 'gpt'].rename(columns={'from': 'answerer', 'value': 'answer'})\n",
    "\n",
    "# after, reset indices to join them properly\n",
    "df_questions = df_questions.reset_index(drop=True)\n",
    "df_answers = df_answers.reset_index(drop=True)\n",
    "\n",
    "# and then, join questions and answers based on the indices\n",
    "df_bis = pd.concat([df_questions[['questionner', 'question']], df_answers[['answerer', 'answer']]], axis=1)\n",
    "df_bis=pd.concat([df_pd['id'], df_bis], axis=1)\n",
    "df_bis=df_bis.reset_index(drop=True)\n",
    "df_bis.head()"
   ]
  },
  {
   "cell_type": "code",
   "execution_count": 58,
   "metadata": {},
   "outputs": [
    {
     "data": {
      "text/html": [
       "<div><style>\n",
       ".dataframe > thead > tr,\n",
       ".dataframe > tbody > tr {\n",
       "  text-align: right;\n",
       "  white-space: pre-wrap;\n",
       "}\n",
       "</style>\n",
       "<small>shape: (5, 5)</small><table border=\"1\" class=\"dataframe\"><thead><tr><th>id</th><th>questionner</th><th>question</th><th>answerer</th><th>answer</th></tr><tr><td>str</td><td>str</td><td>str</td><td>str</td><td>str</td></tr></thead><tbody><tr><td>&quot;VY7cMKG_0&quot;</td><td>&quot;human&quot;</td><td>&quot;Poly Ether Eth…</td><td>&quot;gpt&quot;</td><td>&quot;Here are the t…</td></tr><tr><td>&quot;ng7rjf6_0&quot;</td><td>&quot;human&quot;</td><td>&quot;explane more&quot;</td><td>&quot;gpt&quot;</td><td>&quot;Sure  Here s a…</td></tr><tr><td>&quot;W4wL13P_0&quot;</td><td>&quot;human&quot;</td><td>&quot;explain the me…</td><td>&quot;gpt&quot;</td><td>&quot;The metaverse …</td></tr><tr><td>&quot;v4PzAY8_0&quot;</td><td>&quot;human&quot;</td><td>&quot;Hello&quot;</td><td>&quot;gpt&quot;</td><td>&quot;Hello  How can…</td></tr><tr><td>&quot;mxEe31E_0&quot;</td><td>&quot;human&quot;</td><td>&quot;Explain deposi…</td><td>&quot;gpt&quot;</td><td>&quot;Deposition and…</td></tr></tbody></table></div>"
      ],
      "text/plain": [
       "shape: (5, 5)\n",
       "┌───────────┬─────────────┬─────────────────────────┬──────────┬───────────────────────────────────┐\n",
       "│ id        ┆ questionner ┆ question                ┆ answerer ┆ answer                            │\n",
       "│ ---       ┆ ---         ┆ ---                     ┆ ---      ┆ ---                               │\n",
       "│ str       ┆ str         ┆ str                     ┆ str      ┆ str                               │\n",
       "╞═══════════╪═════════════╪═════════════════════════╪══════════╪═══════════════════════════════════╡\n",
       "│ VY7cMKG_0 ┆ human       ┆ Poly Ether Ether Ketone ┆ gpt      ┆ Here are the top    global and I… │\n",
       "│ ng7rjf6_0 ┆ human       ┆ explane more            ┆ gpt      ┆ Sure  Here s an example of how t… │\n",
       "│ W4wL13P_0 ┆ human       ┆ explain the metaverse   ┆ gpt      ┆ The metaverse is a term used to … │\n",
       "│ v4PzAY8_0 ┆ human       ┆ Hello                   ┆ gpt      ┆ Hello  How can I help you today   │\n",
       "│ mxEe31E_0 ┆ human       ┆ Explain deposition      ┆ gpt      ┆ Deposition and sedimentation are… │\n",
       "└───────────┴─────────────┴─────────────────────────┴──────────┴───────────────────────────────────┘"
      ]
     },
     "execution_count": 58,
     "metadata": {},
     "output_type": "execute_result"
    }
   ],
   "source": [
    "# Just take questions under 5 words\n",
    "df=df.with_columns(pl.col('question').str.split(' ').alias('number')\n",
    "                ).filter(pl.col('number').list.len()<5\n",
    "                         #Replace everything that is not alpha-numeric by spaces and drop nulls\n",
    "                         ).drop('number'\n",
    "                                ).with_columns(pl.col('question', 'answer').str.replace_all(r'[^a-zA-Z]', ' ')).drop_nulls()\n",
    "df.head()"
   ]
  },
  {
   "cell_type": "code",
   "execution_count": 57,
   "metadata": {},
   "outputs": [
    {
     "data": {
      "text/html": [
       "<div>\n",
       "<style scoped>\n",
       "    .dataframe tbody tr th:only-of-type {\n",
       "        vertical-align: middle;\n",
       "    }\n",
       "\n",
       "    .dataframe tbody tr th {\n",
       "        vertical-align: top;\n",
       "    }\n",
       "\n",
       "    .dataframe thead th {\n",
       "        text-align: right;\n",
       "    }\n",
       "</style>\n",
       "<table border=\"1\" class=\"dataframe\">\n",
       "  <thead>\n",
       "    <tr style=\"text-align: right;\">\n",
       "      <th></th>\n",
       "      <th>id</th>\n",
       "      <th>questionner</th>\n",
       "      <th>question</th>\n",
       "      <th>answerer</th>\n",
       "      <th>answer</th>\n",
       "    </tr>\n",
       "  </thead>\n",
       "  <tbody>\n",
       "    <tr>\n",
       "      <th>9</th>\n",
       "      <td>VY7cMKG_0</td>\n",
       "      <td>human</td>\n",
       "      <td>continue explain it</td>\n",
       "      <td>gpt</td>\n",
       "      <td>The language used to describe the addressing m...</td>\n",
       "    </tr>\n",
       "    <tr>\n",
       "      <th>10</th>\n",
       "      <td>H1aZlSE_0</td>\n",
       "      <td>human</td>\n",
       "      <td>more perplexity</td>\n",
       "      <td>gpt</td>\n",
       "      <td>Behold  the arcane art of metaphorical languag...</td>\n",
       "    </tr>\n",
       "    <tr>\n",
       "      <th>11</th>\n",
       "      <td>wNBG8Gp_0</td>\n",
       "      <td>human</td>\n",
       "      <td>more perplexity</td>\n",
       "      <td>gpt</td>\n",
       "      <td>Lo and behold  The arcane and elusive art of m...</td>\n",
       "    </tr>\n",
       "    <tr>\n",
       "      <th>14</th>\n",
       "      <td>wNBG8Gp_33</td>\n",
       "      <td>human</td>\n",
       "      <td>More verbose and details</td>\n",
       "      <td>gpt</td>\n",
       "      <td>Lo and behold  By the grace of divine interven...</td>\n",
       "    </tr>\n",
       "    <tr>\n",
       "      <th>16</th>\n",
       "      <td>wNBG8Gp_65</td>\n",
       "      <td>human</td>\n",
       "      <td>double the length</td>\n",
       "      <td>gpt</td>\n",
       "      <td>Prepare to be dazzled by the sheer magnificenc...</td>\n",
       "    </tr>\n",
       "  </tbody>\n",
       "</table>\n",
       "</div>"
      ],
      "text/plain": [
       "            id questionner                  question answerer  \\\n",
       "9    VY7cMKG_0       human       continue explain it      gpt   \n",
       "10   H1aZlSE_0       human           more perplexity      gpt   \n",
       "11   wNBG8Gp_0       human           more perplexity      gpt   \n",
       "14  wNBG8Gp_33       human  More verbose and details      gpt   \n",
       "16  wNBG8Gp_65       human         double the length      gpt   \n",
       "\n",
       "                                               answer  \n",
       "9   The language used to describe the addressing m...  \n",
       "10  Behold  the arcane art of metaphorical languag...  \n",
       "11  Lo and behold  The arcane and elusive art of m...  \n",
       "14  Lo and behold  By the grace of divine interven...  \n",
       "16  Prepare to be dazzled by the sheer magnificenc...  "
      ]
     },
     "execution_count": 57,
     "metadata": {},
     "output_type": "execute_result"
    }
   ],
   "source": [
    "df_bis['number'] = df_bis['question'].str.split(' ')\n",
    "df_bis = df_bis[df_bis['number'].apply(lambda x: len(x) < 5 if isinstance(x, list) else False)]\n",
    "df_bis = df_bis.drop(columns=['number'])\n",
    "\n",
    "# Replace non-alphabetic characters in 'question' and 'answer' columns and drop nulls\n",
    "df_bis['question'] = df_bis['question'].str.replace(r'[^a-zA-Z]', ' ', regex=True)\n",
    "df_bis['answer'] = df_bis['answer'].str.replace(r'[^a-zA-Z]', ' ', regex=True)\n",
    "\n",
    "df_bis = df_bis.dropna()\n",
    "df_bis.head()\n"
   ]
  },
  {
   "cell_type": "code",
   "execution_count": null,
   "metadata": {},
   "outputs": [],
   "source": []
  }
 ],
 "metadata": {
  "kernelspec": {
   "display_name": "New_Kernel",
   "language": "python",
   "name": "new_kernel"
  },
  "language_info": {
   "codemirror_mode": {
    "name": "ipython",
    "version": 3
   },
   "file_extension": ".py",
   "mimetype": "text/x-python",
   "name": "python",
   "nbconvert_exporter": "python",
   "pygments_lexer": "ipython3",
   "version": "3.11.3"
  }
 },
 "nbformat": 4,
 "nbformat_minor": 2
}
