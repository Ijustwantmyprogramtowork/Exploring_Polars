{
 "cells": [
  {
   "cell_type": "code",
   "execution_count": 1,
   "metadata": {},
   "outputs": [],
   "source": [
    "import polars as pl"
   ]
  },
  {
   "cell_type": "code",
   "execution_count": 8,
   "metadata": {},
   "outputs": [],
   "source": [
    "#scan parquet them convert timestamp column in to a Datetime format\n",
    "df = (\n",
    "    pl.scan_parquet(\"new_gps.parquet\")\n",
    "    .with_columns(pl.from_epoch(pl.col(\"timestamp\"), \"ms\"))\n",
    "    # truncate it by the hour\n",
    "    .with_columns(pl.col(\"timestamp\").dt.truncate(\"1h\"))\n",
    "    # Then group_by by the hour and calculate the mean, the max and min of the speed column\n",
    "    .group_by(pl.col(\"timestamp\"))\n",
    "    .agg(\n",
    "        pl.col(\"speed\").mean().alias(\"mean_speed\"),\n",
    "        pl.col(\"speed\").min().alias(\"min_speed\"),\n",
    "        pl.col(\"speed\").max().alias(\"max_speed\"),\n",
    "    )\n",
    "    # Filter for hour > 4\n",
    "    .filter(pl.col(\"timestamp\") > 4)\n",
    ")"
   ]
  },
  {
   "cell_type": "code",
   "execution_count": 9,
   "metadata": {},
   "outputs": [
    {
     "name": "stdout",
     "output_type": "stream",
     "text": [
      "AGGREGATE\n",
      "\t[col(\"speed\").mean().alias(\"mean_speed\"), col(\"speed\").min().alias(\"min_speed\"), col(\"speed\").max().alias(\"max_speed\")] BY [col(\"timestamp\")] FROM\n",
      "  FILTER [(col(\"timestamp\").cast(Int64)) > (4)] FROM\n",
      "\n",
      "   WITH_COLUMNS:\n",
      "   [col(\"timestamp\").dt.truncate([String(1h)])]\n",
      "     WITH_COLUMNS:\n",
      "     [col(\"timestamp\").strict_cast(Datetime(Milliseconds, None))]\n",
      "\n",
      "        Parquet SCAN new_gps.parquet\n",
      "        PROJECT 2/23 COLUMNS\n"
     ]
    }
   ],
   "source": [
    "print(df.explain())"
   ]
  },
  {
   "cell_type": "code",
   "execution_count": 11,
   "metadata": {},
   "outputs": [
    {
     "name": "stdout",
     "output_type": "stream",
     "text": [
      "FILTER [(col(\"speed\")) > (10.0)] FROM\n",
      " WITH_COLUMNS:\n",
      " [[(col(\"speed\")) * (3.6)]]\n",
      "\n",
      "    Parquet SCAN new_gps.parquet\n",
      "    PROJECT */23 COLUMNS\n",
      "    SELECTION: [(col(\"user_id\")) > (2)]\n"
     ]
    }
   ],
   "source": [
    "lazy = (\n",
    "    (pl.scan_parquet(\"new_gps.parquet\"))\n",
    "    .with_columns(pl.col(\"speed\") * 3.6)\n",
    "    .filter(pl.col(\"speed\") > 10)\n",
    "    .filter(pl.col(\"user_id\") > 2)\n",
    ")\n",
    "print(lazy.explain())"
   ]
  }
 ],
 "metadata": {
  "kernelspec": {
   "display_name": "New_Kernel",
   "language": "python",
   "name": "new_kernel"
  },
  "language_info": {
   "codemirror_mode": {
    "name": "ipython",
    "version": 3
   },
   "file_extension": ".py",
   "mimetype": "text/x-python",
   "name": "python",
   "nbconvert_exporter": "python",
   "pygments_lexer": "ipython3",
   "version": "3.11.3"
  }
 },
 "nbformat": 4,
 "nbformat_minor": 2
}
