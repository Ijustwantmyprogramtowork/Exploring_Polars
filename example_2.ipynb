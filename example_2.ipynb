{
 "cells": [
  {
   "cell_type": "code",
   "execution_count": 49,
   "metadata": {},
   "outputs": [],
   "source": [
    "import pandas as pd\n",
    "import polars as pl"
   ]
  },
  {
   "cell_type": "code",
   "execution_count": 50,
   "metadata": {},
   "outputs": [],
   "source": [
    "df = pl.read_json(\"ShareGPT_V3_unfiltered_cleaned_split_no_imsorry.json\")"
   ]
  },
  {
   "cell_type": "code",
   "execution_count": 51,
   "metadata": {},
   "outputs": [],
   "source": [
    "df_pd = pd.read_json(\"ShareGPT_V3_unfiltered_cleaned_split_no_imsorry.json\")"
   ]
  },
  {
   "cell_type": "code",
   "execution_count": 52,
   "metadata": {},
   "outputs": [
    {
     "data": {
      "text/plain": [
       "585.2572727203369"
      ]
     },
     "execution_count": 52,
     "metadata": {},
     "output_type": "execute_result"
    }
   ],
   "source": [
    "df.estimated_size(\"mb\")"
   ]
  },
  {
   "cell_type": "code",
   "execution_count": 53,
   "metadata": {},
   "outputs": [
    {
     "data": {
      "text/plain": [
       "(94145, 2)"
      ]
     },
     "execution_count": 53,
     "metadata": {},
     "output_type": "execute_result"
    }
   ],
   "source": [
    "df.shape"
   ]
  },
  {
   "cell_type": "code",
   "execution_count": 54,
   "metadata": {},
   "outputs": [
    {
     "data": {
      "text/html": [
       "<div><style>\n",
       ".dataframe > thead > tr,\n",
       ".dataframe > tbody > tr {\n",
       "  text-align: right;\n",
       "  white-space: pre-wrap;\n",
       "}\n",
       "</style>\n",
       "<small>shape: (5, 5)</small><table border=\"1\" class=\"dataframe\"><thead><tr><th>id</th><th>questionner</th><th>question</th><th>answerer</th><th>answer</th></tr><tr><td>str</td><td>str</td><td>str</td><td>str</td><td>str</td></tr></thead><tbody><tr><td>&quot;QWJhYvA_0&quot;</td><td>&quot;human&quot;</td><td>&quot;Summarize the …</td><td>&quot;gpt&quot;</td><td>&quot;Tony Robbins d…</td></tr><tr><td>&quot;i6IyJda_0&quot;</td><td>&quot;human&quot;</td><td>&quot;How to tell if…</td><td>&quot;gpt&quot;</td><td>&quot;1. Homogeneity…</td></tr><tr><td>&quot;A5AbcES_0&quot;</td><td>&quot;human&quot;</td><td>&quot;In Java, I wan…</td><td>&quot;gpt&quot;</td><td>&quot;You can use th…</td></tr><tr><td>&quot;hRPPgZT_0&quot;</td><td>&quot;human&quot;</td><td>&quot;Metaphorical l…</td><td>&quot;gpt&quot;</td><td>&quot;Lo and behold!…</td></tr><tr><td>&quot;hRPPgZT_11&quot;</td><td>&quot;gpt&quot;</td><td>&quot;Lo and behold!…</td><td>&quot;gpt&quot;</td><td>&quot;Behold, fellow…</td></tr></tbody></table></div>"
      ],
      "text/plain": [
       "shape: (5, 5)\n",
       "┌────────────┬─────────────┬──────────────────────────────┬──────────┬─────────────────────────────┐\n",
       "│ id         ┆ questionner ┆ question                     ┆ answerer ┆ answer                      │\n",
       "│ ---        ┆ ---         ┆ ---                          ┆ ---      ┆ ---                         │\n",
       "│ str        ┆ str         ┆ str                          ┆ str      ┆ str                         │\n",
       "╞════════════╪═════════════╪══════════════════════════════╪══════════╪═════════════════════════════╡\n",
       "│ QWJhYvA_0  ┆ human       ┆ Summarize the main ideas of  ┆ gpt      ┆ Tony Robbins describes six  │\n",
       "│            ┆             ┆ Jeff…                        ┆          ┆ core …                      │\n",
       "│ i6IyJda_0  ┆ human       ┆ How to tell if a customer    ┆ gpt      ┆ 1. Homogeneity: The segment │\n",
       "│            ┆             ┆ segmen…                      ┆          ┆ shou…                       │\n",
       "│ A5AbcES_0  ┆ human       ┆ In Java, I want to replace   ┆ gpt      ┆ You can use the             │\n",
       "│            ┆             ┆ strin…                       ┆          ┆ `String.format()…           │\n",
       "│ hRPPgZT_0  ┆ human       ┆ Metaphorical language is     ┆ gpt      ┆ Lo and behold! By the grace │\n",
       "│            ┆             ┆ also us…                     ┆          ┆ of d…                       │\n",
       "│ hRPPgZT_11 ┆ gpt         ┆ Lo and behold! By the grace  ┆ gpt      ┆ Behold, fellow seeker of    │\n",
       "│            ┆             ┆ of d…                        ┆          ┆ knowled…                    │\n",
       "└────────────┴─────────────┴──────────────────────────────┴──────────┴─────────────────────────────┘"
      ]
     },
     "execution_count": 54,
     "metadata": {},
     "output_type": "execute_result"
    }
   ],
   "source": [
    "df = (\n",
    "    # Take the first part of the struct as the questionner\n",
    "    df.with_columns(pl.col(\"conversations\").list.first().alias(\"human\"))\n",
    "    # Unnest the struct and rename it\n",
    "    .unnest(\"human\")\n",
    "    .rename({\"from\": \"questionner\", \"value\": \"question\"})\n",
    "    # Take the last part as the answerer\n",
    "    .with_columns(pl.col(\"conversations\").list.last().alias(\"gpt\"))\n",
    "    # unnest and rename it\n",
    "    .unnest(\"gpt\")\n",
    "    .drop(\"conversations\")\n",
    "    .rename({\"from\": \"answerer\", \"value\": \"answer\"})\n",
    ")\n",
    "df.head()"
   ]
  },
  {
   "cell_type": "code",
   "execution_count": 55,
   "metadata": {},
   "outputs": [
    {
     "data": {
      "text/html": [
       "<div>\n",
       "<style scoped>\n",
       "    .dataframe tbody tr th:only-of-type {\n",
       "        vertical-align: middle;\n",
       "    }\n",
       "\n",
       "    .dataframe tbody tr th {\n",
       "        vertical-align: top;\n",
       "    }\n",
       "\n",
       "    .dataframe thead th {\n",
       "        text-align: right;\n",
       "    }\n",
       "</style>\n",
       "<table border=\"1\" class=\"dataframe\">\n",
       "  <thead>\n",
       "    <tr style=\"text-align: right;\">\n",
       "      <th></th>\n",
       "      <th>id</th>\n",
       "      <th>questionner</th>\n",
       "      <th>answerer</th>\n",
       "      <th>question</th>\n",
       "      <th>answer</th>\n",
       "    </tr>\n",
       "  </thead>\n",
       "  <tbody>\n",
       "    <tr>\n",
       "      <th>0</th>\n",
       "      <td>QWJhYvA_0</td>\n",
       "      <td>human</td>\n",
       "      <td>gpt</td>\n",
       "      <td>Summarize the main ideas of Jeff Walker's Prod...</td>\n",
       "      <td>Here are the main ideas of Jeff Walker's Produ...</td>\n",
       "    </tr>\n",
       "    <tr>\n",
       "      <th>1</th>\n",
       "      <td>i6IyJda_0</td>\n",
       "      <td>human</td>\n",
       "      <td>gpt</td>\n",
       "      <td>How to tell if a customer segment is well segm...</td>\n",
       "      <td>1. Homogeneity: The segment should consist of ...</td>\n",
       "    </tr>\n",
       "    <tr>\n",
       "      <th>2</th>\n",
       "      <td>A5AbcES_0</td>\n",
       "      <td>human</td>\n",
       "      <td>gpt</td>\n",
       "      <td>In Java, I want to replace string like \"This i...</td>\n",
       "      <td>You can use the `String.format()` method in Ja...</td>\n",
       "    </tr>\n",
       "    <tr>\n",
       "      <th>3</th>\n",
       "      <td>hRPPgZT_0</td>\n",
       "      <td>human</td>\n",
       "      <td>gpt</td>\n",
       "      <td>Metaphorical language is also used to describe...</td>\n",
       "      <td>Metaphorical language has been summoned to des...</td>\n",
       "    </tr>\n",
       "    <tr>\n",
       "      <th>4</th>\n",
       "      <td>hRPPgZT_11</td>\n",
       "      <td>gpt</td>\n",
       "      <td>human</td>\n",
       "      <td>Lo and behold! By the grace of divine interven...</td>\n",
       "      <td>More verbose and details</td>\n",
       "    </tr>\n",
       "  </tbody>\n",
       "</table>\n",
       "</div>"
      ],
      "text/plain": [
       "           id questionner answerer  \\\n",
       "0   QWJhYvA_0       human      gpt   \n",
       "1   i6IyJda_0       human      gpt   \n",
       "2   A5AbcES_0       human      gpt   \n",
       "3   hRPPgZT_0       human      gpt   \n",
       "4  hRPPgZT_11         gpt    human   \n",
       "\n",
       "                                            question  \\\n",
       "0  Summarize the main ideas of Jeff Walker's Prod...   \n",
       "1  How to tell if a customer segment is well segm...   \n",
       "2  In Java, I want to replace string like \"This i...   \n",
       "3  Metaphorical language is also used to describe...   \n",
       "4  Lo and behold! By the grace of divine interven...   \n",
       "\n",
       "                                              answer  \n",
       "0  Here are the main ideas of Jeff Walker's Produ...  \n",
       "1  1. Homogeneity: The segment should consist of ...  \n",
       "2  You can use the `String.format()` method in Ja...  \n",
       "3  Metaphorical language has been summoned to des...  \n",
       "4                           More verbose and details  "
      ]
     },
     "execution_count": 55,
     "metadata": {},
     "output_type": "execute_result"
    }
   ],
   "source": [
    "df_pd[\"questionner\"] = df_pd[\"conversations\"].str.get(0).str.get(\"from\")\n",
    "df_pd[\"answerer\"] = df_pd[\"conversations\"].str.get(1).str.get(\"from\")\n",
    "df_pd[\"question\"] = df_pd[\"conversations\"].str.get(0).str.get(\"value\")\n",
    "df_pd[\"answer\"] = df_pd[\"conversations\"].str.get(1).str.get(\"value\")\n",
    "df_pd = df_pd.drop(columns=\"conversations\")\n",
    "df_pd.head()"
   ]
  },
  {
   "cell_type": "code",
   "execution_count": 56,
   "metadata": {},
   "outputs": [
    {
     "data": {
      "text/html": [
       "<div><style>\n",
       ".dataframe > thead > tr,\n",
       ".dataframe > tbody > tr {\n",
       "  text-align: right;\n",
       "  white-space: pre-wrap;\n",
       "}\n",
       "</style>\n",
       "<small>shape: (5, 5)</small><table border=\"1\" class=\"dataframe\"><thead><tr><th>id</th><th>questionner</th><th>question</th><th>answerer</th><th>answer</th></tr><tr><td>str</td><td>str</td><td>str</td><td>str</td><td>str</td></tr></thead><tbody><tr><td>&quot;VY7cMKG_0&quot;</td><td>&quot;human&quot;</td><td>&quot;Poly Ether Eth…</td><td>&quot;gpt&quot;</td><td>&quot;Here are the t…</td></tr><tr><td>&quot;ng7rjf6_0&quot;</td><td>&quot;human&quot;</td><td>&quot;explane more&quot;</td><td>&quot;gpt&quot;</td><td>&quot;Sure  Here s a…</td></tr><tr><td>&quot;W4wL13P_0&quot;</td><td>&quot;human&quot;</td><td>&quot;explain the me…</td><td>&quot;gpt&quot;</td><td>&quot;The metaverse …</td></tr><tr><td>&quot;v4PzAY8_0&quot;</td><td>&quot;human&quot;</td><td>&quot;Hello&quot;</td><td>&quot;gpt&quot;</td><td>&quot;Hello  How can…</td></tr><tr><td>&quot;mxEe31E_0&quot;</td><td>&quot;human&quot;</td><td>&quot;Explain deposi…</td><td>&quot;gpt&quot;</td><td>&quot;Deposition and…</td></tr></tbody></table></div>"
      ],
      "text/plain": [
       "shape: (5, 5)\n",
       "┌───────────┬─────────────┬─────────────────────────┬──────────┬───────────────────────────────────┐\n",
       "│ id        ┆ questionner ┆ question                ┆ answerer ┆ answer                            │\n",
       "│ ---       ┆ ---         ┆ ---                     ┆ ---      ┆ ---                               │\n",
       "│ str       ┆ str         ┆ str                     ┆ str      ┆ str                               │\n",
       "╞═══════════╪═════════════╪═════════════════════════╪══════════╪═══════════════════════════════════╡\n",
       "│ VY7cMKG_0 ┆ human       ┆ Poly Ether Ether Ketone ┆ gpt      ┆ Here are the top    global and I… │\n",
       "│ ng7rjf6_0 ┆ human       ┆ explane more            ┆ gpt      ┆ Sure  Here s an example of how t… │\n",
       "│ W4wL13P_0 ┆ human       ┆ explain the metaverse   ┆ gpt      ┆ The metaverse is a term used to … │\n",
       "│ v4PzAY8_0 ┆ human       ┆ Hello                   ┆ gpt      ┆ Hello  How can I help you today   │\n",
       "│ mxEe31E_0 ┆ human       ┆ Explain deposition      ┆ gpt      ┆ Deposition and sedimentation are… │\n",
       "└───────────┴─────────────┴─────────────────────────┴──────────┴───────────────────────────────────┘"
      ]
     },
     "execution_count": 56,
     "metadata": {},
     "output_type": "execute_result"
    }
   ],
   "source": [
    "df = (\n",
    "    # Just take questions under 5 words\n",
    "    df.with_columns(pl.col(\"question\").str.split(\" \").alias(\"number\"))\n",
    "    .filter(pl.col(\"number\").list.len() < 5)\n",
    "    .drop(\"number\")\n",
    "    .with_columns(\n",
    "        pl.col(\"question\", \"answer\")\n",
    "        # Replace everything that is not alpha-numeric by spaces and drop nulls\n",
    "        .str.replace_all(r\"[^a-zA-Z]\", \" \")\n",
    "    )\n",
    "    .drop_nulls()\n",
    ")\n",
    "df.head()"
   ]
  },
  {
   "cell_type": "code",
   "execution_count": 57,
   "metadata": {},
   "outputs": [
    {
     "data": {
      "text/html": [
       "<div>\n",
       "<style scoped>\n",
       "    .dataframe tbody tr th:only-of-type {\n",
       "        vertical-align: middle;\n",
       "    }\n",
       "\n",
       "    .dataframe tbody tr th {\n",
       "        vertical-align: top;\n",
       "    }\n",
       "\n",
       "    .dataframe thead th {\n",
       "        text-align: right;\n",
       "    }\n",
       "</style>\n",
       "<table border=\"1\" class=\"dataframe\">\n",
       "  <thead>\n",
       "    <tr style=\"text-align: right;\">\n",
       "      <th></th>\n",
       "      <th>id</th>\n",
       "      <th>questionner</th>\n",
       "      <th>answerer</th>\n",
       "      <th>question</th>\n",
       "      <th>answer</th>\n",
       "    </tr>\n",
       "  </thead>\n",
       "  <tbody>\n",
       "    <tr>\n",
       "      <th>9</th>\n",
       "      <td>VY7cMKG_0</td>\n",
       "      <td>human</td>\n",
       "      <td>gpt</td>\n",
       "      <td>Poly Ether Ether Ketone</td>\n",
       "      <td>Poly Ether Ether Ketone  PEEK  is a high perfo...</td>\n",
       "    </tr>\n",
       "    <tr>\n",
       "      <th>19</th>\n",
       "      <td>ng7rjf6_0</td>\n",
       "      <td>human</td>\n",
       "      <td>gpt</td>\n",
       "      <td>explane more</td>\n",
       "      <td>Sure  I d be happy to explain in more detail  ...</td>\n",
       "    </tr>\n",
       "    <tr>\n",
       "      <th>68</th>\n",
       "      <td>W4wL13P_0</td>\n",
       "      <td>human</td>\n",
       "      <td>gpt</td>\n",
       "      <td>explain the metaverse</td>\n",
       "      <td>The metaverse is a term used to describe a col...</td>\n",
       "    </tr>\n",
       "    <tr>\n",
       "      <th>86</th>\n",
       "      <td>v4PzAY8_0</td>\n",
       "      <td>human</td>\n",
       "      <td>gpt</td>\n",
       "      <td>Hello</td>\n",
       "      <td>Hello  How can I help you today</td>\n",
       "    </tr>\n",
       "    <tr>\n",
       "      <th>91</th>\n",
       "      <td>mxEe31E_0</td>\n",
       "      <td>human</td>\n",
       "      <td>gpt</td>\n",
       "      <td>Explain deposition</td>\n",
       "      <td>Deposition is a process in which material or p...</td>\n",
       "    </tr>\n",
       "  </tbody>\n",
       "</table>\n",
       "</div>"
      ],
      "text/plain": [
       "           id questionner answerer                 question  \\\n",
       "9   VY7cMKG_0       human      gpt  Poly Ether Ether Ketone   \n",
       "19  ng7rjf6_0       human      gpt             explane more   \n",
       "68  W4wL13P_0       human      gpt    explain the metaverse   \n",
       "86  v4PzAY8_0       human      gpt                    Hello   \n",
       "91  mxEe31E_0       human      gpt       Explain deposition   \n",
       "\n",
       "                                               answer  \n",
       "9   Poly Ether Ether Ketone  PEEK  is a high perfo...  \n",
       "19  Sure  I d be happy to explain in more detail  ...  \n",
       "68  The metaverse is a term used to describe a col...  \n",
       "86                   Hello  How can I help you today   \n",
       "91  Deposition is a process in which material or p...  "
      ]
     },
     "execution_count": 57,
     "metadata": {},
     "output_type": "execute_result"
    }
   ],
   "source": [
    "df_pd[\"number\"] = df_pd[\"question\"].str.split(\" \")\n",
    "df_pd = df_pd[\n",
    "    df_pd[\"number\"].apply(lambda x: len(x) < 5 if isinstance(x, list) else False)\n",
    "]\n",
    "df_pd = df_pd.drop(columns=[\"number\"])\n",
    "\n",
    "# Replace non-alphabetic characters in 'question' and 'answer' columns and drop nulls\n",
    "df_pd[\"question\"] = df_pd[\"question\"].str.replace(r\"[^a-zA-Z]\", \" \", regex=True)\n",
    "df_pd[\"answer\"] = df_pd[\"answer\"].str.replace(r\"[^a-zA-Z]\", \" \", regex=True)\n",
    "\n",
    "df_bis = df_pd.dropna()\n",
    "df_bis.head()"
   ]
  }
 ],
 "metadata": {
  "kernelspec": {
   "display_name": "New_Kernel",
   "language": "python",
   "name": "new_kernel"
  },
  "language_info": {
   "codemirror_mode": {
    "name": "ipython",
    "version": 3
   },
   "file_extension": ".py",
   "mimetype": "text/x-python",
   "name": "python",
   "nbconvert_exporter": "python",
   "pygments_lexer": "ipython3",
   "version": "3.11.3"
  }
 },
 "nbformat": 4,
 "nbformat_minor": 2
}
